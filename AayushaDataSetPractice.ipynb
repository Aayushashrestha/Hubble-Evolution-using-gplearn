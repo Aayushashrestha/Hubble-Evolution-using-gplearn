{
 "cells": [
  {
   "cell_type": "code",
   "execution_count": null,
   "id": "1ee0a6ec-696f-4dfa-b870-487f9320bbb7",
   "metadata": {},
   "outputs": [],
   "source": [
    "import numpy as np\n",
    "import pandas as pd\n",
    "from gplearn.genetic import SymbolicRegressor\n",
    "from sklearn.model_selection import train_test_split\n",
    "from sklearn.preprocessing import OneHotEncoder\n",
    "from sklearn.metrics import mean_squared_error"
   ]
  },
  {
   "cell_type": "code",
   "execution_count": null,
   "id": "aaa851de-3ce1-4a58-9fdf-8423a9d69a27",
   "metadata": {},
   "outputs": [],
   "source": [
    "dataset_survival = pd.read_csv('/home/kidneyData/GP_Survival/dataset_regfinaldata_livingDon_2022_redoMAR30.csv', encoding=\"latin1\", low_memory=False)\n",
    "dataset_survival.drop(columns=dataset_survival.columns[0], axis=1, inplace=True)\n",
    "dataset_survival.head()"
   ]
  },
  {
   "cell_type": "code",
   "execution_count": null,
   "id": "109d7efc-21a9-4b20-b698-3424510cfa72",
   "metadata": {},
   "outputs": [],
   "source": [
    "# Sample data based on the provided dataset\n",
    "data = {\n",
    "    'CAN_LAST_SRTR_PEAK_PRA': [0.0, 3.0, 7.0, 17.0, 0.0],\n",
    "    'DON_RACE': ['Whites', 'Blacks', 'Whites', 'Blacks', 'Whites'],\n",
    "    'DON_GENDER': ['M', 'M', 'F', 'F', 'F'],\n",
    "    # ... add other features and target variables here ...\n",
    "    'Avg_EMS_30': [1.8, 3.0, 1.8, 3.0, 1.8]  # Assuming 'Avg_EMS_30' is the target variable\n",
    "}"
   ]
  },
  {
   "cell_type": "code",
   "execution_count": null,
   "id": "e7aeff5f-a49b-4fc1-8e86-5722fb4d049b",
   "metadata": {},
   "outputs": [],
   "source": [
    "# Create a DataFrame\n",
    "df = pd.DataFrame(data)"
   ]
  },
  {
   "cell_type": "code",
   "execution_count": null,
   "id": "ceb50817-2575-4cc6-93d9-d719d1283b30",
   "metadata": {},
   "outputs": [],
   "source": [
    "# Separate features and target\n",
    "features = df.drop(['Avg_EMS_30'], axis=1)\n",
    "target = df['Avg_EMS_30']"
   ]
  },
  {
   "cell_type": "code",
   "execution_count": null,
   "id": "a6f40507-4b47-468f-af93-4162c5fc337e",
   "metadata": {},
   "outputs": [],
   "source": [
    "# Perform one-hot encoding for categorical variables\n",
    "features_encoded = pd.get_dummies(features, columns=['DON_RACE', 'DON_GENDER'])\n"
   ]
  },
  {
   "cell_type": "code",
   "execution_count": null,
   "id": "6ff1f2dd-e7cd-4426-916d-f2345b28a49d",
   "metadata": {},
   "outputs": [],
   "source": [
    "# Split the data into training and testing sets\n",
    "X_train, X_test, y_train, y_test = train_test_split(features_encoded, target, test_size=0.2, random_state=42)"
   ]
  },
  {
   "cell_type": "code",
   "execution_count": null,
   "id": "be5abaa7-68a2-4f53-89d6-1787c6eb43b5",
   "metadata": {},
   "outputs": [],
   "source": [
    "# Initialize the symbolic regressor\n",
    "est_gp = SymbolicRegressor(population_size=5000, generations=20, stopping_criteria=0.01,\n",
    "                           p_crossover=0.7, p_subtree_mutation=0.1,\n",
    "                           p_hoist_mutation=0.05, p_point_mutation=0.1,\n",
    "                           max_samples=0.9, verbose=1, parsimony_coefficient=0.01, random_state=0)"
   ]
  },
  {
   "cell_type": "code",
   "execution_count": null,
   "id": "b4fc1762-f899-48b5-baf9-532227e77771",
   "metadata": {},
   "outputs": [],
   "source": [
    "# Fit the model\n",
    "est_gp.fit(X_train, y_train)"
   ]
  },
  {
   "cell_type": "code",
   "execution_count": null,
   "id": "052e2f92-85e5-4a86-8140-41770d7b537e",
   "metadata": {},
   "outputs": [],
   "source": [
    "# Check if the model is fitted\n",
    "if est_gp._program is None:\n",
    "    print(\"Model is not fitted. Please fit the model before visualization.\")\n",
    "else:\n",
    "    # Predict on the testing set\n",
    "    y_pred = est_gp.predict(X_test)"
   ]
  },
  {
   "cell_type": "code",
   "execution_count": null,
   "id": "8bdcddfe-3557-4621-b028-4e4646dbcd1a",
   "metadata": {},
   "outputs": [],
   "source": [
    "# Evaluate the model (e.g., using mean squared error)\n",
    "mse = mean_squared_error(y_test, y_pred)\n",
    "print('Mean Squared Error:', mse)"
   ]
  },
  {
   "cell_type": "code",
   "execution_count": null,
   "id": "a3640827-f087-4c7c-b611-bb8c20f6cbfb",
   "metadata": {},
   "outputs": [],
   "source": [
    "# Print the symbolic expression\n",
    "print('Symbolic Expression:', est_gp._program)"
   ]
  },
  {
   "cell_type": "code",
   "execution_count": null,
   "id": "7d8e7c5b-1ee8-40e8-9c3c-8061155b604f",
   "metadata": {},
   "outputs": [],
   "source": [
    "# Plot the actual values against the predicted values\n",
    "plt.figure(figsize=(10, 6))\n",
    "plt.scatter(y_test, y_pred, color='blue')\n",
    "plt.plot([y_test.min(), y_test.max()], [y_test.min(), y_test.max()], linestyle='--', color='red', linewidth=2)\n",
    "plt.xlabel('Actual Avg_EMS_30')\n",
    "plt.ylabel('Predicted Avg_EMS_30')\n",
    "plt.title('Actual vs Predicted Avg_EMS_30')\n",
    "plt.grid(True)\n",
    "plt.show()"
   ]
  },
  {
   "cell_type": "code",
   "execution_count": null,
   "id": "a63ae4ca-c81c-40c1-b826-e473186c70cd",
   "metadata": {},
   "outputs": [],
   "source": [
    "%pip install pydot"
   ]
  },
  {
   "cell_type": "code",
   "execution_count": null,
   "id": "3814724c-d026-435d-9f2d-880ba0e615db",
   "metadata": {},
   "outputs": [],
   "source": [
    "import pydot\n",
    "from IPython.display import Image\n",
    "\n",
    "# Assuming 'est_gp._program' contains the symbolic expression\n",
    "# You may need to modify this based on the actual structure of the symbolic expression\n",
    "symbolic_expression = est_gp._program\n",
    "\n",
    "# Visualize the symbolic expression as a tree\n",
    "graph = pydot.graph_from_dot_data(symbolic_expression.export_graphviz())\n",
    "image = Image(graph[0].create_png())\n",
    "\n",
    "# Display the image\n",
    "display(image)\n"
   ]
  },
  {
   "cell_type": "code",
   "execution_count": null,
   "id": "9c0584b0-1722-45ba-ba5a-60de6fc274f9",
   "metadata": {},
   "outputs": [],
   "source": []
  }
 ],
 "metadata": {
  "kernelspec": {
   "display_name": "Python 3 (ipykernel)",
   "language": "python",
   "name": "python3"
  },
  "language_info": {
   "codemirror_mode": {
    "name": "ipython",
    "version": 3
   },
   "file_extension": ".py",
   "mimetype": "text/x-python",
   "name": "python",
   "nbconvert_exporter": "python",
   "pygments_lexer": "ipython3",
   "version": "3.9.7"
  }
 },
 "nbformat": 4,
 "nbformat_minor": 5
}
